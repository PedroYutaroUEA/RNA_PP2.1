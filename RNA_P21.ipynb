{
  "nbformat": 4,
  "nbformat_minor": 0,
  "metadata": {
    "colab": {
      "provenance": []
    },
    "kernelspec": {
      "name": "python3",
      "display_name": "Python 3"
    },
    "language_info": {
      "name": "python"
    }
  },
  "cells": [
    {
      "cell_type": "markdown",
      "source": [
        "# Redes Neurais Artificiais - Projeto Prático 2.1\n",
        "## Aprendizado Supervisionado do Neurônio Perceptron"
      ],
      "metadata": {
        "id": "tbVoN9FgwKs4"
      }
    },
    {
      "cell_type": "markdown",
      "source": [
        "\n",
        "\n",
        "Importação das bibliotecas basicas.\n"
      ],
      "metadata": {
        "id": "fD5sXu2KG1Tg"
      }
    },
    {
      "cell_type": "code",
      "execution_count": null,
      "metadata": {
        "id": "zd71zX6yGiHT"
      },
      "outputs": [],
      "source": [
        "import numpy as np\n",
        "import random\n",
        "import math\n",
        "import matplotlib.pyplot as plt\n",
        "import pandas as pd"
      ]
    },
    {
      "cell_type": "markdown",
      "source": [
        "\n",
        "\n",
        "Começar o projeto"
      ],
      "metadata": {
        "id": "z29o3aVZG0mT"
      }
    },
    {
      "cell_type": "code",
      "source": [],
      "metadata": {
        "id": "WPEr-wwcG0Pf"
      },
      "execution_count": null,
      "outputs": []
    }
  ]
}